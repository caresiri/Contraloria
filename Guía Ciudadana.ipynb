{
 "cells": [
  {
   "cell_type": "markdown",
   "metadata": {},
   "source": [
    "# Guía Ciudadana"
   ]
  },
  {
   "cell_type": "markdown",
   "metadata": {},
   "source": [
    "El siguiente es el código para bajar los archivos para el ejercicio."
   ]
  },
  {
   "cell_type": "code",
   "execution_count": null,
   "metadata": {},
   "outputs": [],
   "source": [
    "source(\"Import Files.R\", echo = T)"
   ]
  },
  {
   "cell_type": "markdown",
   "metadata": {},
   "source": [
    "las instituciones que NO están en SICOP no manejan un código de mercancías uniforme, por lo que no se puede obtener un reporte con códigos de técnologia.\n",
    "\n",
    "Sin embargo en el SIAC si se manejan las subpartidas presupuestarias, las cuales, pese a que abarcan más bienes y servicios que los desados, señalan los códigos de técnologia en el SICOP, es la mejor aproximación que podría realizarse. \n",
    "\n",
    "Las siguientes subpartidas se utilizaron para aproximarse a las compras tecnológicas del estado utilizando el SIAC:\n",
    "\n",
    "1.01.03-- Alquiler de equipo de cómputo\n",
    "1.01.04-- Alquiller de equipo y derechos para telecomunicaciones \n",
    "1.03.07-- Servicios de transferencia electrónica de información//(2019) Servicios de tecnologías de información \n",
    "1.04.03-- Servicios de ingeniería y arquitectura \n",
    "1.04.05-- Servicios de desarrollo de sistemas informáticos //(2019) Servicios informáticos\n",
    "1.04.99--Otros servicios de gestión y apoyo\n",
    "1.08.08--Mantenimiento y reparación de equipo de cómputo y sistemas de información\n",
    "2.03.04--Materiales y productos eléctronicos, telefónicos y de cómputo\n",
    "2.99.01--Útiles y materiales de oficina y cómputo\n",
    "5.01.03--Equipo de comunicación\n",
    "5.01.05-- Equipo y programas de cómputo//(2019) Equipo de cómputo\n",
    "5.99.03--Bienes intangibles\n"
   ]
  },
  {
   "cell_type": "markdown",
   "metadata": {},
   "source": [
    "El siguiente código genera las clasificaciones de tecnología. El código requiere de niveles de procesamiento mas grandes que los disponible en esta plataforma. Para verificar el código, puede bajarlo y correrlo con mas procesamiento. "
   ]
  },
  {
   "cell_type": "code",
   "execution_count": null,
   "metadata": {},
   "outputs": [],
   "source": [
    "#setwd(\"./Text Mining\")\n",
    "#source(\"SIAC_Tech.R\", echo = T)\n",
    "#setwd('..')"
   ]
  },
  {
   "cell_type": "code",
   "execution_count": null,
   "metadata": {},
   "outputs": [],
   "source": []
  }
 ],
 "metadata": {
  "kernelspec": {
   "display_name": "R",
   "language": "R",
   "name": "ir"
  },
  "language_info": {
   "codemirror_mode": "r",
   "file_extension": ".r",
   "mimetype": "text/x-r-source",
   "name": "R",
   "pygments_lexer": "r",
   "version": "3.6.1"
  }
 },
 "nbformat": 4,
 "nbformat_minor": 4
}
