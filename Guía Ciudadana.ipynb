{
 "cells": [
  {
   "cell_type": "markdown",
   "metadata": {},
   "source": [
    "# Guía Ciudadana"
   ]
  },
  {
   "cell_type": "markdown",
   "metadata": {},
   "source": [
    "El siguiente es el código para bajar los archivos para el ejercicio."
   ]
  },
  {
   "cell_type": "code",
   "execution_count": 7,
   "metadata": {},
   "outputs": [],
   "source": [
    "setwd(\"./Tablas\")\n",
    "library(readxl)\n",
    "library(dplyr)\n",
    "\n",
    "#en esta sección se obtienen las adjudicaciones en el SICOP X código catalogo relacionados a tecnología\n",
    "Adj_2015 <- read_excel(\"Reporte adjudicaciones x codigo catalogo 2015.xlsx\")\n",
    "Adj_2016 <- read_excel(\"Reporte adjudicaciones x codigo catalogo 2016.xlsx\")\n",
    "Adj_2017 <- read_excel(\"Reporte adjudicaciones x codigo catalogo 2017.xlsx\")\n",
    "Adj_2018 <- read_excel(\"Reporte adjudicacioenes x codigo catalogo 2018.xlsx\")\n",
    "Adj_2019 <- read_excel(\"Reporte adjudicacioenes x codigo catalogo 2019.xlsx\")\n",
    "\n",
    "#en esta sección se obtienen las ofertas en el SICOP X código catalogo relacionados a tecnología\n",
    "Of_2015 <- read_excel(\"Reporte ofertas presentadas x codigo catalogo 2015.xlsx\")\n",
    "Of_2016 <- read_excel(\"Reporte ofertas presentadas x codigo catalogo 2016.xlsx\")\n",
    "Of_2017 <- read_excel(\"Reporte ofertas presentadas x codigo catalogo 2017.xlsx\")\n",
    "Of_2018_19 <- read_excel(\"Reporte ofertas x codigo catalogo 2018-2019.xlsx\")\n",
    "\n",
    "#en esta sección se obtienen las compras de técnología reportadas en el SIAC entre 2015 y 2019\n",
    "SIAC_15_17 <- read_excel(\"SIAC 2015-2017.xlsx\")\n",
    "SIAC_18_19 <- read_excel(\"ComprasSIAC.xls\")\n",
    "\n",
    "SIAC_18_19$`Año de adjudicación` <- as.numeric(SIAC_18_19$`Año de adjudicación`)\n",
    "\n",
    "# se generan tablas con todas las adjudicaciones y ofertas de todos los años\n",
    "Adj_Total <- bind_rows(Adj_2015, Adj_2016, Adj_2017, Adj_2018, Adj_2019)\n",
    "Of_Total <- bind_rows(Of_2015, Of_2016, Of_2017, Of_2018_19)\n",
    "SIAC_Total <-bind_rows(SIAC_15_17,SIAC_18_19)\n",
    "setwd('..')"
   ]
  },
  {
   "cell_type": "code",
   "execution_count": null,
   "metadata": {},
   "outputs": [],
   "source": []
  },
  {
   "cell_type": "code",
   "execution_count": null,
   "metadata": {},
   "outputs": [],
   "source": []
  }
 ],
 "metadata": {
  "kernelspec": {
   "display_name": "R",
   "language": "R",
   "name": "ir"
  },
  "language_info": {
   "codemirror_mode": "r",
   "file_extension": ".r",
   "mimetype": "text/x-r-source",
   "name": "R",
   "pygments_lexer": "r",
   "version": "3.6.1"
  }
 },
 "nbformat": 4,
 "nbformat_minor": 4
}
